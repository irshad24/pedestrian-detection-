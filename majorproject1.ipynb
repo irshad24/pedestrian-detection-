{
 "cells": [
  {
   "cell_type": "code",
   "execution_count": null,
   "metadata": {},
   "outputs": [],
   "source": [
    "import cv2\n",
    "import numpy as np\n",
    "import sys\n",
    "from tkinter.filedialog import askopenfilename"
   ]
  },
  {
   "cell_type": "code",
   "execution_count": null,
   "metadata": {},
   "outputs": [],
   "source": [
    "from PIL import Image\n",
    "\n",
    "img = Image.open('.jfif') # image extension *.png,*.jpg\n",
    "new_width  = 299\n",
    "new_height = 197\n",
    "img = img.resize((new_width, new_height), Image.ANTIALIAS)\n",
    "img.save('duplicate1.jfif') # format may what you want *.png, *jpg, *.gif"
   ]
  },
  {
   "cell_type": "code",
   "execution_count": null,
   "metadata": {},
   "outputs": [],
   "source": [
    "imagePath = sys.argv[1]\n",
    "cascPath = \"haarcascade_pedestrian.xml\"\n",
    "\n",
    "#cascPath = \"pedestrian_another.xml\"\n",
    "#cascPath = \"haarcascade_fullbody.xml\""
   ]
  },
  {
   "cell_type": "code",
   "execution_count": null,
   "metadata": {},
   "outputs": [],
   "source": [
    "pedsCascade =  cv2.CascadeClassifier(cascPath)"
   ]
  },
  {
   "cell_type": "code",
   "execution_count": null,
   "metadata": {},
   "outputs": [],
   "source": [
    "# Read the image\n",
    "\n",
    "img = cv2.imread('duplicate1.jfif')"
   ]
  },
  {
   "cell_type": "code",
   "execution_count": null,
   "metadata": {},
   "outputs": [],
   "source": [
    "#Converting to grayscale\n",
    "gray = cv2.cvtColor(img, cv2.COLOR_BGR2GRAY)"
   ]
  },
  {
   "cell_type": "code",
   "execution_count": null,
   "metadata": {},
   "outputs": [],
   "source": [
    "# detect pedestrian in pic\n",
    "\n",
    "peds = pedsCascade.detectMultiScale(\n",
    "        gray,\n",
    "        scaleFactor=1.05,\n",
    "        minNeighbors=3,\n",
    "        minSize=(40, 40)\n",
    ")\n"
   ]
  },
  {
   "cell_type": "code",
   "execution_count": null,
   "metadata": {},
   "outputs": [],
   "source": [
    "pwd"
   ]
  },
  {
   "cell_type": "code",
   "execution_count": null,
   "metadata": {},
   "outputs": [],
   "source": [
    "print(\"Found {0} pedestrian!\".format(len(peds)))"
   ]
  },
  {
   "cell_type": "code",
   "execution_count": null,
   "metadata": {},
   "outputs": [],
   "source": [
    "# Draw a rectangle around the peds\n",
    "for (x, y, w, h) in peds:\n",
    "    cv2.rectangle(img, (x, y), (x+w, y+h), (0, 255, 255), 2)"
   ]
  },
  {
   "cell_type": "code",
   "execution_count": null,
   "metadata": {},
   "outputs": [],
   "source": [
    "\n",
    "status = cv2.imwrite('pedstest2.jpg', img)\n",
    "print (\"Image written to file-system : \",status)"
   ]
  },
  {
   "cell_type": "code",
   "execution_count": null,
   "metadata": {},
   "outputs": [],
   "source": [
    "from PIL import Image\n",
    "\n",
    "img = Image.open('pedstest2.jpg') # image extension *.png,*.jpg\n",
    "new_width  = 1920\n",
    "new_height = 1080\n",
    "img = img.resize((new_width, new_height), Image.ANTIALIAS)\n",
    "img.save('duplicate1.jfif') # format may what you want *.png, *jpg, *.gif\n"
   ]
  },
  {
   "cell_type": "code",
   "execution_count": null,
   "metadata": {},
   "outputs": [],
   "source": [
    "image = Image.open('duplicate1.jfif')\n",
    "image.show()"
   ]
  }
 ],
 "metadata": {
  "kernelspec": {
   "display_name": "Python 3",
   "language": "python",
   "name": "python3"
  },
  "language_info": {
   "codemirror_mode": {
    "name": "ipython",
    "version": 3
   },
   "file_extension": ".py",
   "mimetype": "text/x-python",
   "name": "python",
   "nbconvert_exporter": "python",
   "pygments_lexer": "ipython3",
   "version": "3.7.7"
  }
 },
 "nbformat": 4,
 "nbformat_minor": 4
}
